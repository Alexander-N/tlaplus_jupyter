{
 "cells": [
  {
   "cell_type": "code",
   "execution_count": null,
   "metadata": {},
   "outputs": [],
   "source": [
    "{e \\in ( (1..3)\\X(1..3) ): e[1] <= e[2]}"
   ]
  },
  {
   "cell_type": "code",
   "execution_count": null,
   "metadata": {},
   "outputs": [],
   "source": [
    "------------------------------ MODULE DieHardTLA ------------------------------\n",
    "EXTENDS Integers\n",
    "\n",
    "VARIABLES small, big   \n",
    "          \n",
    "TypeOK == /\\ small \\in 0..3 \n",
    "          /\\ big   \\in 0..5\n",
    "\n",
    "Init == /\\ big   = 0 \n",
    "        /\\ small = 0\n",
    "\n",
    "FillSmall == /\\ small' = 3 \n",
    "             /\\ big'   = big\n",
    "\n",
    "FillBig == /\\ big'   = 5 \n",
    "           /\\ small' = small\n",
    "\n",
    "EmptySmall == /\\ small' = 0 \n",
    "              /\\ big'   = big\n",
    "\n",
    "EmptyBig == /\\ big'   = 0 \n",
    "            /\\ small' = small\n",
    "\n",
    "SmallToBig == IF big + small =< 5\n",
    "               THEN /\\ big'   = big + small\n",
    "                    /\\ small' = 0\n",
    "               ELSE /\\ big'   = 5\n",
    "                    /\\ small' = small - (5 - big)\n",
    " \n",
    "BigToSmall == IF big + small =< 3\n",
    "               THEN /\\ big'   = 0 \n",
    "                    /\\ small' = big + small\n",
    "               ELSE /\\ big'   = small - (3 - big)\n",
    "                    /\\ small' = 3\n",
    "\n",
    "Next == \\/ FillSmall \n",
    "        \\/ FillBig    \n",
    "        \\/ EmptySmall \n",
    "        \\/ EmptyBig    \n",
    "        \\/ SmallToBig    \n",
    "        \\/ BigToSmall    \n",
    "        \n",
    "Spec == Init /\\ [][Next]_<<small, big>>        \n",
    "============================================================================="
   ]
  },
  {
   "cell_type": "code",
   "execution_count": null,
   "metadata": {},
   "outputs": [],
   "source": [
    "%tlc:DieHardTLA\n",
    "SPECIFICATION\n",
    "Spec\n",
    "INVARIANT\n",
    "TypeOK"
   ]
  },
  {
   "cell_type": "code",
   "execution_count": null,
   "metadata": {},
   "outputs": [],
   "source": [
    "!!!"
   ]
  }
 ],
 "metadata": {
  "kernelspec": {
   "display_name": "TLA⁺",
   "language": "tla",
   "name": "tlaplus_jupyter"
  },
  "language_info": {
   "codemirror_mode": "tlaplus",
   "file_extension": ".tla",
   "mimetype": "text/x-tlaplus",
   "name": "tlaplus"
  }
 },
 "nbformat": 4,
 "nbformat_minor": 2
}

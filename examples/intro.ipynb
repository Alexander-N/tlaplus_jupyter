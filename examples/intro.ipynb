{
 "cells": [
  {
   "cell_type": "markdown",
   "metadata": {},
   "source": [
    "## Constant expressions\n",
    "\n",
    "Bare statement in a cell is treated as a constant expression and will be immediately evaluated upon cell execution. For example, to a get set of all even squares of the first ten numbers we may execute:"
   ]
  },
  {
   "cell_type": "code",
   "execution_count": null,
   "metadata": {},
   "outputs": [],
   "source": [
    "{sq \\in {x*x: x \\in 1..10}: sq%2=1}"
   ]
  },
  {
   "cell_type": "markdown",
   "metadata": {},
   "source": [
    "For more complex expression it is handy to use `LET ... IN ...` construct:"
   ]
  },
  {
   "cell_type": "code",
   "execution_count": null,
   "metadata": {},
   "outputs": [],
   "source": [
    "LET\n",
    "    n_nodes == 3\n",
    "    nodes == 1..n_nodes\n",
    "    quorum(mask) == Cardinality({i \\in DOMAIN mask: mask[i] = 1}) >= (n_nodes \\div 2 + 1)\n",
    "    new_status(old_status, vmask, emask) ==\n",
    "        CASE ~ quorum(vmask) -> \"disabled\"\n",
    "        [] old_status = \"disabled\" -> \"recovery\"\n",
    "        [] (old_status = \"recovered\" /\\ vmask = emask) -> \"online\"\n",
    "        [] OTHER -> old_status\n",
    "IN\n",
    "    new_status(\"recovered\", <<1, 1, 0>>, <<1, 1, 0>>)"
   ]
  },
  {
   "cell_type": "markdown",
   "metadata": {},
   "source": [
    "## Modules\n",
    "\n",
    "Cells starting with four dashes are treated as a module definition. Upon evaluation kernel will perform basic syntax checks with `tla2sany` and report errors if there will be any. Let's evaluate `DieHard` spec from [The TLA+ Video Course](https://lamport.azurewebsites.net/video/videos.html):"
   ]
  },
  {
   "cell_type": "code",
   "execution_count": null,
   "metadata": {},
   "outputs": [],
   "source": [
    "--------------------------- MODULE DieHard ----------------------------\n",
    "EXTENDS Naturals\n",
    "VARIABLES big,   \\* The number of gallons of water in the 5 gallon jug.\n",
    "          small  \\* The number of gallons of water in the 3 gallon jug.\n",
    "\n",
    "Min(m,n) == IF m < n THEN m ELSE n\n",
    "TypeOK   == small \\in 0..3 /\\ big   \\in 0..5\n",
    "\n",
    "Init          == big    = 0 /\\ small  = 0\n",
    "FillSmallJug  == small' = 3 /\\ big'   = big\n",
    "FillBigJug    == big'   = 5 /\\ small' = small\n",
    "EmptySmallJug == small' = 0 /\\ big'   = big\n",
    "EmptyBigJug   == big'   = 0 /\\ small' = small\n",
    "\n",
    "SmallToBig    == /\\ big'   = Min(big + small, 5)\n",
    "                 /\\ small' = small - (big' - big)\n",
    "\n",
    "BigToSmall    == /\\ small' = Min(big + small, 3) \n",
    "                 /\\ big'   = big - (small' - small)\n",
    "\n",
    "Next ==  \\/ FillSmallJug \n",
    "         \\/ FillBigJug    \n",
    "         \\/ EmptySmallJug \n",
    "         \\/ EmptyBigJug    \n",
    "         \\/ SmallToBig    \n",
    "         \\/ BigToSmall    \n",
    "\n",
    "Spec == Init /\\ [][Next]_<<big, small>>\n",
    "NotSolved == big # 4\n",
    "\n",
    "============================================================================="
   ]
  },
  {
   "cell_type": "markdown",
   "metadata": {},
   "source": [
    "## TLC\n",
    "\n",
    "To check a model `TLC` will need a configuration file. In that file among a lot of things we may:\n",
    "* Set model constants to specific values\n",
    "* Provide the name of specification formula or Init/Next formulas\n",
    "* Mention symmetries\n",
    "\n",
    "To indicate kernel that given cell is a `TLC` config cell needs to be started with line `%tlc:ModelName` where ModelName is the name of a module to be checked. The module should be already evaluated in some other cell before running `TLC`. \n",
    "\n",
    "Upon evaluation of such a cell kernel will run `TLC` with the number of workers equal to number of cores on the jupyter server. Any `TLC` output will be dynamically sent to the notebook. By default `TLC` prints it's progress once in a minute.\n",
    "\n",
    "For example, to check `DieHard` model we may run:"
   ]
  },
  {
   "cell_type": "code",
   "execution_count": null,
   "metadata": {},
   "outputs": [],
   "source": [
    "%tlc:DieHard\n",
    "SPECIFICATION Spec\n",
    "INVARIANTS TypeOK NotSolved"
   ]
  },
  {
   "cell_type": "markdown",
   "metadata": {},
   "source": [
    "If we need to pass some custom command-line option to `TLC` we may put them after the `%tlc:ModelName` prefix. Like that:"
   ]
  },
  {
   "cell_type": "code",
   "execution_count": null,
   "metadata": {},
   "outputs": [],
   "source": [
    "%tlc:DieHard -deadlock -workers 1\n",
    "SPECIFICATION Spec\n",
    "INVARIANTS TypeOK"
   ]
  }
 ],
 "metadata": {
  "kernelspec": {
   "display_name": "TLA⁺",
   "language": "tla",
   "name": "tlaplus_jupyter"
  },
  "language_info": {
   "codemirror_mode": "tlaplus",
   "file_extension": ".tla",
   "mimetype": "text/x-tlaplus",
   "name": "tlaplus"
  }
 },
 "nbformat": 4,
 "nbformat_minor": 2
}
